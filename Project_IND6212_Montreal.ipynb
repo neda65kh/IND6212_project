{
  "nbformat": 4,
  "nbformat_minor": 0,
  "metadata": {
    "colab": {
      "provenance": []
    },
    "kernelspec": {
      "name": "python3",
      "display_name": "Python 3"
    },
    "language_info": {
      "name": "python"
    }
  },
  "cells": [
    {
      "cell_type": "code",
      "source": [
        "# Step 1: Import pandas or any other libraries you need\n",
        "import pandas as pd"
      ],
      "metadata": {
        "id": "qdVXb2Yd7nWG"
      },
      "execution_count": 3,
      "outputs": []
    },
    {
      "cell_type": "code",
      "source": [
        "# Step 2: Mount Google Drive\n",
        "from google.colab import drive\n",
        "drive.mount('/content/drive')\n",
        "\n",
        "# Step 3: Specify the correct file path\n",
        "# Replace 'path_to_your_file' with the actual path where your file is stored in Google Drive\n",
        "file_path = '/content/drive/My Drive/IND6212/collisions_routieres.csv'\n",
        "\n",
        "# Step 4: Read the file using pandas\n",
        "df2 = pd.read_csv(file_path)\n",
        "\n",
        "# Step 5: Display the first few rows to ensure it's loaded correctly\n",
        "print(df2.head())"
      ],
      "metadata": {
        "colab": {
          "base_uri": "https://localhost:8080/"
        },
        "id": "qGeqQrdI8VM2",
        "outputId": "cec7b85f-c789-4025-e117-12d1b6451b5f"
      },
      "execution_count": 4,
      "outputs": [
        {
          "output_type": "stream",
          "name": "stdout",
          "text": [
            "Mounted at /content/drive\n",
            "           NO_SEQ_COLL JR_SEMN_ACCDN    DT_ACCDN  CD_MUNCP  NO_CIVIQ_ACCDN  \\\n",
            "0      SPVM _ 2012 _ 1            ME  2012/02/01   66102.0          3501.0   \n",
            "1     SPVM _ 2012 _ 10            MA  2012/01/03   66023.0             NaN   \n",
            "2    SPVM _ 2012 _ 100            VE  2012/02/24   66023.0             NaN   \n",
            "3   SPVM _ 2012 _ 1000            JE  2012/10/11   66142.0         11800.0   \n",
            "4  SPVM _ 2012 _ 10000            DI  2012/04/22   66023.0            38.0   \n",
            "\n",
            "  SFX_NO_CIVIQ_ACCDN  BORNE_KM_ACCDN          RUE_ACCDN  TP_REPRR_ACCDN  \\\n",
            "0                NaN             NaN         ST CHARLES             2.0   \n",
            "1                NaN             NaN  TERR VILLE DE MTL             NaN   \n",
            "2                NaN             NaN     JACQUES BIZARD             1.0   \n",
            "3                NaN             NaN       BD SALABERRY             NaN   \n",
            "4                NaN             NaN     PL DU COMMERCE             NaN   \n",
            "\n",
            "  ACCDN_PRES_DE  ...  NB_VICTIMES_VELO  VITESSE_AUTOR         LOC_X  \\\n",
            "0          STAT  ...                 0            NaN  276517.37950   \n",
            "1           NaN  ...                 0            NaN  275209.46185   \n",
            "2      CHERRIER  ...                 0           50.0  275759.07900   \n",
            "3           NaN  ...                 0            NaN  280970.09315   \n",
            "4           NaN  ...                 0            NaN  301391.47638   \n",
            "\n",
            "          LOC_Y  LOC_COTE_QD  LOC_COTE_PD  LOC_DETACHEE  LOC_IMPRECISION  \\\n",
            "0  5.035127e+06            A            3             O                N   \n",
            "1  5.038619e+06            B            4             N                N   \n",
            "2  5.039027e+06            A            1             N                O   \n",
            "3  5.038348e+06            A            1             O                N   \n",
            "4  5.036357e+06            A            1             O                N   \n",
            "\n",
            "    LOC_LONG    LOC_LAT  \n",
            "0 -73.861616  45.455505  \n",
            "1 -73.878549  45.486871  \n",
            "2 -73.871542  45.490564  \n",
            "3 -73.804841  45.484648  \n",
            "4 -73.543590  45.467136  \n",
            "\n",
            "[5 rows x 68 columns]\n"
          ]
        }
      ]
    },
    {
      "cell_type": "code",
      "source": [
        "# Display first few rows\n",
        "print(df.head())\n",
        "\n"
      ],
      "metadata": {
        "colab": {
          "base_uri": "https://localhost:8080/"
        },
        "id": "JNUfJSeqp-sV",
        "outputId": "6c3e3ec4-4344-45f1-de32-40d26b7d6611"
      },
      "execution_count": 5,
      "outputs": [
        {
          "output_type": "stream",
          "name": "stdout",
          "text": [
            "           NO_SEQ_COLL JR_SEMN_ACCDN    DT_ACCDN  CD_MUNCP  NO_CIVIQ_ACCDN  \\\n",
            "0      SPVM _ 2012 _ 1            ME  2012/02/01   66102.0          3501.0   \n",
            "1     SPVM _ 2012 _ 10            MA  2012/01/03   66023.0             NaN   \n",
            "2    SPVM _ 2012 _ 100            VE  2012/02/24   66023.0             NaN   \n",
            "3   SPVM _ 2012 _ 1000            JE  2012/10/11   66142.0         11800.0   \n",
            "4  SPVM _ 2012 _ 10000            DI  2012/04/22   66023.0            38.0   \n",
            "\n",
            "  SFX_NO_CIVIQ_ACCDN  BORNE_KM_ACCDN          RUE_ACCDN  TP_REPRR_ACCDN  \\\n",
            "0                NaN             NaN         ST CHARLES             2.0   \n",
            "1                NaN             NaN  TERR VILLE DE MTL             NaN   \n",
            "2                NaN             NaN     JACQUES BIZARD             1.0   \n",
            "3                NaN             NaN       BD SALABERRY             NaN   \n",
            "4                NaN             NaN     PL DU COMMERCE             NaN   \n",
            "\n",
            "  ACCDN_PRES_DE  ...  NB_VICTIMES_VELO  VITESSE_AUTOR         LOC_X  \\\n",
            "0          STAT  ...                 0            NaN  276517.37950   \n",
            "1           NaN  ...                 0            NaN  275209.46185   \n",
            "2      CHERRIER  ...                 0           50.0  275759.07900   \n",
            "3           NaN  ...                 0            NaN  280970.09315   \n",
            "4           NaN  ...                 0            NaN  301391.47638   \n",
            "\n",
            "          LOC_Y  LOC_COTE_QD  LOC_COTE_PD  LOC_DETACHEE  LOC_IMPRECISION  \\\n",
            "0  5.035127e+06            A            3             O                N   \n",
            "1  5.038619e+06            B            4             N                N   \n",
            "2  5.039027e+06            A            1             N                O   \n",
            "3  5.038348e+06            A            1             O                N   \n",
            "4  5.036357e+06            A            1             O                N   \n",
            "\n",
            "    LOC_LONG    LOC_LAT  \n",
            "0 -73.861616  45.455505  \n",
            "1 -73.878549  45.486871  \n",
            "2 -73.871542  45.490564  \n",
            "3 -73.804841  45.484648  \n",
            "4 -73.543590  45.467136  \n",
            "\n",
            "[5 rows x 68 columns]\n"
          ]
        }
      ]
    },
    {
      "cell_type": "code",
      "source": [
        "\n",
        "# Check dataset information\n",
        "print(df.info())\n",
        "\n"
      ],
      "metadata": {
        "colab": {
          "base_uri": "https://localhost:8080/"
        },
        "id": "zDAfgXQ1qCa7",
        "outputId": "cbf861d5-1b6c-4052-a155-f20dcaf41c5f"
      },
      "execution_count": 6,
      "outputs": [
        {
          "output_type": "stream",
          "name": "stdout",
          "text": [
            "<class 'pandas.core.frame.DataFrame'>\n",
            "RangeIndex: 218272 entries, 0 to 218271\n",
            "Data columns (total 68 columns):\n",
            " #   Column                       Non-Null Count   Dtype  \n",
            "---  ------                       --------------   -----  \n",
            " 0   NO_SEQ_COLL                  218272 non-null  object \n",
            " 1   JR_SEMN_ACCDN                218272 non-null  object \n",
            " 2   DT_ACCDN                     218272 non-null  object \n",
            " 3   CD_MUNCP                     218265 non-null  float64\n",
            " 4   NO_CIVIQ_ACCDN               93491 non-null   float64\n",
            " 5   SFX_NO_CIVIQ_ACCDN           444 non-null     object \n",
            " 6   BORNE_KM_ACCDN               111 non-null     float64\n",
            " 7   RUE_ACCDN                    205974 non-null  object \n",
            " 8   TP_REPRR_ACCDN               135965 non-null  float64\n",
            " 9   ACCDN_PRES_DE                147189 non-null  object \n",
            " 10  NB_METRE_DIST_ACCD           60692 non-null   float64\n",
            " 11  CD_GENRE_ACCDN               208205 non-null  float64\n",
            " 12  CD_SIT_PRTCE_ACCDN           5195 non-null    float64\n",
            " 13  CD_ETAT_SURFC                205512 non-null  float64\n",
            " 14  CD_ECLRM                     205353 non-null  float64\n",
            " 15  CD_ENVRN_ACCDN               211217 non-null  float64\n",
            " 16  NO_ROUTE                     722 non-null     float64\n",
            " 17  CD_CATEG_ROUTE               211917 non-null  float64\n",
            " 18  CD_ETAT_CHASS                53271 non-null   float64\n",
            " 19  CD_ASPCT_ROUTE               208355 non-null  float64\n",
            " 20  CD_LOCLN_ACCDN               200509 non-null  float64\n",
            " 21  CD_POSI_ACCDN                49216 non-null   float64\n",
            " 22  CD_CONFG_ROUTE               196300 non-null  float64\n",
            " 23  CD_ZON_TRAVX_ROUTR           4904 non-null    float64\n",
            " 24  CD_PNT_CDRNL_ROUTE           390 non-null     object \n",
            " 25  CD_PNT_CDRNL_REPRR           68152 non-null   object \n",
            " 26  CD_COND_METEO                204670 non-null  float64\n",
            " 27  NB_VEH_IMPLIQUES_ACCDN       218272 non-null  int64  \n",
            " 28  NB_MORTS                     218272 non-null  int64  \n",
            " 29  NB_BLESSES_GRAVES            218272 non-null  int64  \n",
            " 30  NB_BLESSES_LEGERS            218272 non-null  int64  \n",
            " 31  HEURE_ACCDN                  218272 non-null  object \n",
            " 32  AN                           218272 non-null  int64  \n",
            " 33  NB_VICTIMES_TOTAL            218272 non-null  int64  \n",
            " 34  GRAVITE                      218272 non-null  object \n",
            " 35  REG_ADM                      218264 non-null  object \n",
            " 36  MRC                          218264 non-null  object \n",
            " 37  nb_automobile_camion_leger   218272 non-null  int64  \n",
            " 38  nb_camionLourd_tractRoutier  218272 non-null  int64  \n",
            " 39  nb_outil_equipement          218272 non-null  int64  \n",
            " 40  nb_tous_autobus_minibus      218272 non-null  int64  \n",
            " 41  nb_bicyclette                218272 non-null  int64  \n",
            " 42  nb_cyclomoteur               218272 non-null  int64  \n",
            " 43  nb_motocyclette              218272 non-null  int64  \n",
            " 44  nb_taxi                      218272 non-null  int64  \n",
            " 45  nb_urgence                   218272 non-null  int64  \n",
            " 46  nb_motoneige                 218272 non-null  int64  \n",
            " 47  nb_VHR                       218272 non-null  int64  \n",
            " 48  nb_autres_types              218272 non-null  int64  \n",
            " 49  nb_veh_non_precise           218272 non-null  int64  \n",
            " 50  NB_DECES_PIETON              218272 non-null  int64  \n",
            " 51  NB_BLESSES_PIETON            218272 non-null  int64  \n",
            " 52  NB_VICTIMES_PIETON           218272 non-null  int64  \n",
            " 53  NB_DECES_MOTO                218272 non-null  int64  \n",
            " 54  NB_BLESSES_MOTO              218272 non-null  int64  \n",
            " 55  NB_VICTIMES_MOTO             218272 non-null  int64  \n",
            " 56  NB_DECES_VELO                218272 non-null  int64  \n",
            " 57  NB_BLESSES_VELO              218272 non-null  int64  \n",
            " 58  NB_VICTIMES_VELO             218272 non-null  int64  \n",
            " 59  VITESSE_AUTOR                137387 non-null  float64\n",
            " 60  LOC_X                        218261 non-null  float64\n",
            " 61  LOC_Y                        218261 non-null  float64\n",
            " 62  LOC_COTE_QD                  218272 non-null  object \n",
            " 63  LOC_COTE_PD                  218272 non-null  int64  \n",
            " 64  LOC_DETACHEE                 218253 non-null  object \n",
            " 65  LOC_IMPRECISION              218272 non-null  object \n",
            " 66  LOC_LONG                     218261 non-null  float64\n",
            " 67  LOC_LAT                      218261 non-null  float64\n",
            "dtypes: float64(24), int64(29), object(15)\n",
            "memory usage: 113.2+ MB\n",
            "None\n"
          ]
        }
      ]
    },
    {
      "cell_type": "code",
      "source": [
        "# Check missing values percentage\n",
        "missing_values = (df.isnull().sum() / len(df)) * 100\n",
        "print(missing_values.sort_values(ascending=False))\n"
      ],
      "metadata": {
        "colab": {
          "base_uri": "https://localhost:8080/"
        },
        "id": "nmKuw175AXJ2",
        "outputId": "2deb1e7a-4b15-4b28-c355-76b5eb61b4ce"
      },
      "execution_count": 7,
      "outputs": [
        {
          "output_type": "stream",
          "name": "stdout",
          "text": [
            "BORNE_KM_ACCDN        99.949146\n",
            "CD_PNT_CDRNL_ROUTE    99.821324\n",
            "SFX_NO_CIVIQ_ACCDN    99.796584\n",
            "NO_ROUTE              99.669220\n",
            "CD_ZON_TRAVX_ROUTR    97.753262\n",
            "                        ...    \n",
            "NB_VICTIMES_MOTO       0.000000\n",
            "NB_DECES_MOTO          0.000000\n",
            "LOC_COTE_QD            0.000000\n",
            "LOC_COTE_PD            0.000000\n",
            "LOC_IMPRECISION        0.000000\n",
            "Length: 68, dtype: float64\n"
          ]
        }
      ]
    },
    {
      "cell_type": "code",
      "source": [],
      "metadata": {
        "id": "Fc9XbJt0Z7XY"
      },
      "execution_count": 7,
      "outputs": []
    },
    {
      "cell_type": "code",
      "source": [
        "# Check missing values\n",
        "print(df.isnull().sum())\n",
        "\n"
      ],
      "metadata": {
        "colab": {
          "base_uri": "https://localhost:8080/"
        },
        "id": "NdDZKJ8mqERf",
        "outputId": "13bb3f84-1cd7-4761-dd77-b60abb64b100"
      },
      "execution_count": 8,
      "outputs": [
        {
          "output_type": "stream",
          "name": "stdout",
          "text": [
            "NO_SEQ_COLL             0\n",
            "JR_SEMN_ACCDN           0\n",
            "DT_ACCDN                0\n",
            "CD_MUNCP                7\n",
            "NO_CIVIQ_ACCDN     124781\n",
            "                    ...  \n",
            "LOC_COTE_PD             0\n",
            "LOC_DETACHEE           19\n",
            "LOC_IMPRECISION         0\n",
            "LOC_LONG               11\n",
            "LOC_LAT                11\n",
            "Length: 68, dtype: int64\n"
          ]
        }
      ]
    },
    {
      "cell_type": "code",
      "source": [
        "# Check summary statistics\n",
        "print(df.describe())"
      ],
      "metadata": {
        "colab": {
          "base_uri": "https://localhost:8080/"
        },
        "id": "ErAT4I32qGQX",
        "outputId": "e7a27f76-8f43-4876-f357-1aaec34a149f"
      },
      "execution_count": 9,
      "outputs": [
        {
          "output_type": "stream",
          "name": "stdout",
          "text": [
            "            CD_MUNCP  NO_CIVIQ_ACCDN  BORNE_KM_ACCDN  TP_REPRR_ACCDN  \\\n",
            "count  218265.000000    93491.000000      111.000000   135965.000000   \n",
            "mean    66023.164016     4775.975613      477.751351        1.124915   \n",
            "std       524.008509     3823.672482     1303.036728        0.330912   \n",
            "min      1023.000000        0.000000        0.000000        0.000000   \n",
            "25%     66023.000000     1498.000000        4.300000        1.000000   \n",
            "50%     66023.000000     4448.000000       50.000000        1.000000   \n",
            "75%     66023.000000     7141.000000      142.500000        1.000000   \n",
            "max     94210.000000    97850.000000     8410.000000        2.000000   \n",
            "\n",
            "       NB_METRE_DIST_ACCD  CD_GENRE_ACCDN  CD_SIT_PRTCE_ACCDN  CD_ETAT_SURFC  \\\n",
            "count        60692.000000   208205.000000         5195.000000  205512.000000   \n",
            "mean           102.327177       33.669432            4.926660      12.346408   \n",
            "std           2058.056593        9.400683            3.552377       5.483459   \n",
            "min              0.000000       31.000000            1.000000      11.000000   \n",
            "25%              5.000000       31.000000            1.000000      11.000000   \n",
            "50%             15.000000       31.000000            3.000000      11.000000   \n",
            "75%             50.000000       31.000000            9.000000      12.000000   \n",
            "max          99999.000000       99.000000            9.000000      99.000000   \n",
            "\n",
            "            CD_ECLRM  CD_ENVRN_ACCDN  ...  NB_VICTIMES_MOTO  NB_DECES_VELO  \\\n",
            "count  205353.000000   211217.000000  ...     218272.000000  218272.000000   \n",
            "mean        1.607627        2.657745  ...          0.008022       0.000142   \n",
            "std         0.900466        0.936735  ...          0.093470       0.011917   \n",
            "min         1.000000        1.000000  ...          0.000000       0.000000   \n",
            "25%         1.000000        2.000000  ...          0.000000       0.000000   \n",
            "50%         1.000000        3.000000  ...          0.000000       0.000000   \n",
            "75%         3.000000        3.000000  ...          0.000000       0.000000   \n",
            "max         4.000000        9.000000  ...          3.000000       1.000000   \n",
            "\n",
            "       NB_BLESSES_VELO  NB_VICTIMES_VELO  VITESSE_AUTOR          LOC_X  \\\n",
            "count    218272.000000     218272.000000  137387.000000  218261.000000   \n",
            "mean          0.030027          0.030169      45.463836  295222.923395   \n",
            "std           0.171625          0.172013       8.718541    6080.408734   \n",
            "min           0.000000          0.000000       0.000000  267986.992400   \n",
            "25%           0.000000          0.000000      40.000000  293375.011000   \n",
            "50%           0.000000          0.000000      50.000000  296435.480330   \n",
            "75%           0.000000          0.000000      50.000000  299202.200000   \n",
            "max           2.000000          2.000000     100.000000  306367.983980   \n",
            "\n",
            "              LOC_Y    LOC_COTE_PD       LOC_LONG        LOC_LAT  \n",
            "count  2.182610e+05  218272.000000  218261.000000  218261.000000  \n",
            "mean   5.042985e+06       1.208071     -73.622571      45.526690  \n",
            "std    5.971792e+03       0.588259       0.077749       0.053788  \n",
            "min    5.029289e+06       1.000000     -73.970506      45.402674  \n",
            "25%    5.038845e+06       1.000000     -73.646169      45.489353  \n",
            "50%    5.042726e+06       1.000000     -73.607135      45.524411  \n",
            "75%    5.046966e+06       1.000000     -73.571695      45.562558  \n",
            "max    5.062512e+06       4.000000     -73.479864      45.702491  \n",
            "\n",
            "[8 rows x 53 columns]\n"
          ]
        }
      ]
    },
    {
      "cell_type": "markdown",
      "source": [
        "# New Section"
      ],
      "metadata": {
        "id": "SrVLeG_VouYr"
      }
    }
  ]
}