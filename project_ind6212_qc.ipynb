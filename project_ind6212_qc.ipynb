{
  "nbformat": 4,
  "nbformat_minor": 0,
  "metadata": {
    "colab": {
      "provenance": []
    },
    "kernelspec": {
      "name": "python3",
      "display_name": "Python 3"
    },
    "language_info": {
      "name": "python"
    }
  },
  "cells": [
    {
      "cell_type": "code",
      "source": [
        "# Step 1: Import pandas or any other libraries you need\n",
        "import pandas as pd"
      ],
      "metadata": {
        "id": "qdVXb2Yd7nWG"
      },
      "execution_count": null,
      "outputs": []
    },
    {
      "cell_type": "code",
      "source": [
        "# Step 2: Mount Google Drive\n",
        "from google.colab import drive\n",
        "drive.mount('/content/drive')\n",
        "\n",
        "# Step 3: Specify the correct file path\n",
        "# Replace 'path_to_your_file' with the actual path where your file is stored in Google Drive\n",
        "file_path = '/content/drive/My Drive/IND6212/Rapport_Accident_2022.csv'\n",
        "\n",
        "# Step 4: Read the file using pandas\n",
        "df1 = pd.read_csv(file_path)\n",
        "\n",
        "# Step 5: Display the first few rows to ensure it's loaded correctly\n",
        "print(df1.head())"
      ],
      "metadata": {
        "colab": {
          "base_uri": "https://localhost:8080/"
        },
        "id": "vp9yeSaC9z6t",
        "outputId": "93414560-6fdb-42aa-d23b-2f201a762333"
      },
      "execution_count": null,
      "outputs": [
        {
          "output_type": "stream",
          "name": "stdout",
          "text": [
            "Mounted at /content/drive\n",
            "     AN NO_SEQ_COLL  MS_ACCDN           HR_ACCDN JR_SEMN_ACCDN  \\\n",
            "0  2022    2022 _ 1         3  16:00:00-19:59:00           SEM   \n",
            "1  2022    2022 _ 2         4  20:00:00-23:59:00           SEM   \n",
            "2  2022    2022 _ 3         3  16:00:00-19:59:00           SEM   \n",
            "3  2022    2022 _ 4         6  00:00:00-03:59:00           SEM   \n",
            "4  2022    2022 _ 5         9  16:00:00-19:59:00           FDS   \n",
            "\n",
            "                                             GRAVITE  NB_VICTIMES_TOTAL  \\\n",
            "0                       Dommages matériels seulement                  0   \n",
            "1                       Dommages matériels seulement                  0   \n",
            "2                       Dommages matériels seulement                  0   \n",
            "3                       Dommages matériels seulement                  0   \n",
            "4  Dommages matériels inférieurs au seuil de rapp...                  0   \n",
            "\n",
            "   NB_VEH_IMPLIQUES_ACCDN             \\t\\t\\t\"REG_ADM\" VITESSE_AUTOR  ...  \\\n",
            "0                     1.0              Outaouais (07)            90  ...   \n",
            "1                     1.0            Laurentides (15)            90  ...   \n",
            "2                     2.0  Abitibi-Témiscamingue (08)            50  ...   \n",
            "3                     1.0  Abitibi-Témiscamingue (08)            90  ...   \n",
            "4                     2.0  Abitibi-Témiscamingue (08)           NaN  ...   \n",
            "\n",
            "  CD_ASPCT_ROUTE  \\t\\t\\t\"CD_LOCLN_ACCDN\"  CD_CONFG_ROUTE  CD_ZON_TRAVX_ROUTR  \\\n",
            "0          Droit                    33.0            23.0                 NaN   \n",
            "1          Droit                    99.0            23.0                 NaN   \n",
            "2          Droit                    34.0            23.0                 NaN   \n",
            "3          Droit                     NaN            23.0                 NaN   \n",
            "4          Droit                    99.0            23.0                 NaN   \n",
            "\n",
            "   CD_COND_METEO IND_AUTO_CAMION_LEGER  IND_VEH_LOURD  IND_MOTO_CYCLO  \\\n",
            "0           17.0                     O              N               N   \n",
            "1           12.0                     O              N               N   \n",
            "2           11.0                     O              N               N   \n",
            "3           11.0                     N              O               N   \n",
            "4           11.0                     O              N               N   \n",
            "\n",
            "  \\t\\t\\t\"IND_VELO\"  IND_PIETON  \n",
            "0                N           N  \n",
            "1                N           N  \n",
            "2                N           N  \n",
            "3                N           N  \n",
            "4                N           N  \n",
            "\n",
            "[5 rows x 25 columns]\n"
          ]
        }
      ]
    },
    {
      "cell_type": "code",
      "source": [
        "# Step 2: Mount Google Drive\n",
        "from google.colab import drive\n",
        "drive.mount('/content/drive')\n",
        "\n",
        "# Step 3: Specify the correct file path\n",
        "# Replace 'path_to_your_file' with the actual path where your file is stored in Google Drive\n",
        "file_path = '/content/drive/My Drive/IND6212/Rapport_Accident_2021.csv'\n",
        "\n",
        "# Step 4: Read the file using pandas\n",
        "df2 = pd.read_csv(file_path)\n",
        "\n",
        "# Step 5: Display the first few rows to ensure it's loaded correctly\n",
        "print(df2.head())"
      ],
      "metadata": {
        "colab": {
          "base_uri": "https://localhost:8080/"
        },
        "id": "qGeqQrdI8VM2",
        "outputId": "98180a74-791c-46b6-d57d-8cbcef5bb034"
      },
      "execution_count": null,
      "outputs": [
        {
          "output_type": "stream",
          "name": "stdout",
          "text": [
            "Drive already mounted at /content/drive; to attempt to forcibly remount, call drive.mount(\"/content/drive\", force_remount=True).\n",
            "     AN NO_SEQ_COLL  MS_ACCDN           HR_ACCDN JR_SEMN_ACCDN  \\\n",
            "0  2021    2021 _ 1         1  16:00:00-19:59:00           SEM   \n",
            "1  2021    2021 _ 2         1  08:00:00-11:59:00           SEM   \n",
            "2  2021    2021 _ 3         1  08:00:00-11:59:00           SEM   \n",
            "3  2021    2021 _ 4         2  12:00:00-15:59:00           FDS   \n",
            "4  2021    2021 _ 5         5  08:00:00-11:59:00           FDS   \n",
            "\n",
            "                                             GRAVITE  NB_VICTIMES_TOTAL  \\\n",
            "0                       Dommages matériels seulement                  0   \n",
            "1  Dommages matériels inférieurs au seuil de rapp...                  0   \n",
            "2                                              Léger                  1   \n",
            "3                       Dommages matériels seulement                  0   \n",
            "4                       Dommages matériels seulement                  0   \n",
            "\n",
            "   NB_VEH_IMPLIQUES_ACCDN            \\t\\t\\t\"REG_ADM\" VITESSE_AUTOR  ...  \\\n",
            "0                       2    Capitale-Nationale (03)            50  ...   \n",
            "1                       2  Chaudière-Appalaches (12)           NaN  ...   \n",
            "2                       2              Montréal (06)            50  ...   \n",
            "3                       2              Montréal (06)            50  ...   \n",
            "4                       1  Chaudière-Appalaches (12)           NaN  ...   \n",
            "\n",
            "  CD_ASPCT_ROUTE  \\t\\t\\t\"CD_LOCLN_ACCDN\"  CD_CONFG_ROUTE  CD_ZON_TRAVX_ROUTR  \\\n",
            "0          Droit                    99.0            23.0                 NaN   \n",
            "1          Droit                    12.0            23.0                 NaN   \n",
            "2          Droit                    12.0            23.0                 NaN   \n",
            "3         Courbe                    99.0            23.0                 NaN   \n",
            "4          Droit                    99.0            23.0                 NaN   \n",
            "\n",
            "   CD_COND_METEO IND_AUTO_CAMION_LEGER  IND_VEH_LOURD  IND_MOTO_CYCLO  \\\n",
            "0           11.0                     O              N               N   \n",
            "1           11.0                     N              O               N   \n",
            "2           17.0                     N              O               N   \n",
            "3           17.0                     N              O               N   \n",
            "4           11.0                     N              O               N   \n",
            "\n",
            "  \\t\\t\\t\"IND_VELO\"  IND_PIETON  \n",
            "0                N           N  \n",
            "1                N           N  \n",
            "2                N           N  \n",
            "3                N           N  \n",
            "4                N           N  \n",
            "\n",
            "[5 rows x 25 columns]\n"
          ]
        }
      ]
    },
    {
      "cell_type": "code",
      "source": [
        "# Step 2: Mount Google Drive\n",
        "from google.colab import drive\n",
        "drive.mount('/content/drive')\n",
        "\n",
        "# Step 3: Specify the correct file path\n",
        "# Replace 'path_to_your_file' with the actual path where your file is stored in Google Drive\n",
        "file_path = '/content/drive/My Drive/IND6212/Rapport_Accident_2020.csv'\n",
        "\n",
        "# Step 4: Read the file using pandas\n",
        "df3 = pd.read_csv(file_path)\n",
        "\n",
        "# Step 5: Display the first few rows to ensure it's loaded correctly\n",
        "print(df3.head())"
      ],
      "metadata": {
        "colab": {
          "base_uri": "https://localhost:8080/"
        },
        "id": "DWLxfxX78aIa",
        "outputId": "2ea961c2-d481-4654-9de8-9f24677012b5"
      },
      "execution_count": null,
      "outputs": [
        {
          "output_type": "stream",
          "name": "stdout",
          "text": [
            "Drive already mounted at /content/drive; to attempt to forcibly remount, call drive.mount(\"/content/drive\", force_remount=True).\n",
            "     AN NO_SEQ_COLL  MS_ACCDN           HR_ACCDN JR_SEMN_ACCDN  \\\n",
            "0  2020    2020 _ 1         2  20:00:00-23:59:00           SEM   \n",
            "1  2020    2020 _ 2         7  08:00:00-11:59:00           SEM   \n",
            "2  2020    2020 _ 3         7  08:00:00-11:59:00           SEM   \n",
            "3  2020    2020 _ 4         9  20:00:00-23:59:00           SEM   \n",
            "4  2020    2020 _ 5         9  12:00:00-15:59:00           SEM   \n",
            "\n",
            "                                             GRAVITE  NB_VICTIMES_TOTAL  \\\n",
            "0                       Dommages matériels seulement                  0   \n",
            "1  Dommages matériels inférieurs au seuil de rapp...                  0   \n",
            "2                       Dommages matériels seulement                  0   \n",
            "3                       Dommages matériels seulement                  0   \n",
            "4  Dommages matériels inférieurs au seuil de rapp...                  0   \n",
            "\n",
            "   NB_VEH_IMPLIQUES_ACCDN          \\t\\t\\t\"REG_ADM\" VITESSE_AUTOR  ...  \\\n",
            "0                       2            Montréal (06)           <50  ...   \n",
            "1                       2            Montréal (06)           NaN  ...   \n",
            "2                       2            Montréal (06)            50  ...   \n",
            "3                       2  Capitale-Nationale (03)            50  ...   \n",
            "4                       1  Capitale-Nationale (03)            90  ...   \n",
            "\n",
            "  CD_ASPCT_ROUTE  \\t\\t\\t\"CD_LOCLN_ACCDN\"  CD_CONFG_ROUTE  CD_ZON_TRAVX_ROUTR  \\\n",
            "0          Droit                    99.0            23.0                 NaN   \n",
            "1          Droit                    99.0            23.0                 NaN   \n",
            "2          Droit                    99.0            23.0                 NaN   \n",
            "3          Droit                    99.0            23.0                 NaN   \n",
            "4         Courbe                    99.0            23.0                 NaN   \n",
            "\n",
            "   CD_COND_METEO IND_AUTO_CAMION_LEGER  IND_VEH_LOURD  IND_MOTO_CYCLO  \\\n",
            "0           11.0                     O              N               N   \n",
            "1           11.0                     N              O               N   \n",
            "2           11.0                     N              O               N   \n",
            "3           15.0                     O              N               N   \n",
            "4           11.0                     N              O               N   \n",
            "\n",
            "  \\t\\t\\t\"IND_VELO\"  IND_PIETON  \n",
            "0                N           N  \n",
            "1                N           N  \n",
            "2                N           N  \n",
            "3                N           N  \n",
            "4                N           N  \n",
            "\n",
            "[5 rows x 25 columns]\n"
          ]
        }
      ]
    },
    {
      "cell_type": "code",
      "source": [
        "# Concatenate datasets vertically\n",
        "df = pd.concat([df1, df2, df3], ignore_index=True)\n"
      ],
      "metadata": {
        "id": "tj970moh9Xyd"
      },
      "execution_count": null,
      "outputs": []
    },
    {
      "cell_type": "code",
      "source": [
        "# Display first few rows\n",
        "print(df.head())\n",
        "\n"
      ],
      "metadata": {
        "colab": {
          "base_uri": "https://localhost:8080/"
        },
        "id": "JNUfJSeqp-sV",
        "outputId": "ccf03a6f-0169-4ebb-ed65-194c43a8ee6e"
      },
      "execution_count": null,
      "outputs": [
        {
          "output_type": "stream",
          "name": "stdout",
          "text": [
            "     AN NO_SEQ_COLL  MS_ACCDN           HR_ACCDN JR_SEMN_ACCDN  \\\n",
            "0  2022    2022 _ 1         3  16:00:00-19:59:00           SEM   \n",
            "1  2022    2022 _ 2         4  20:00:00-23:59:00           SEM   \n",
            "2  2022    2022 _ 3         3  16:00:00-19:59:00           SEM   \n",
            "3  2022    2022 _ 4         6  00:00:00-03:59:00           SEM   \n",
            "4  2022    2022 _ 5         9  16:00:00-19:59:00           FDS   \n",
            "\n",
            "                                             GRAVITE  NB_VICTIMES_TOTAL  \\\n",
            "0                       Dommages matériels seulement                  0   \n",
            "1                       Dommages matériels seulement                  0   \n",
            "2                       Dommages matériels seulement                  0   \n",
            "3                       Dommages matériels seulement                  0   \n",
            "4  Dommages matériels inférieurs au seuil de rapp...                  0   \n",
            "\n",
            "   NB_VEH_IMPLIQUES_ACCDN             \\t\\t\\t\"REG_ADM\" VITESSE_AUTOR  ...  \\\n",
            "0                     1.0              Outaouais (07)            90  ...   \n",
            "1                     1.0            Laurentides (15)            90  ...   \n",
            "2                     2.0  Abitibi-Témiscamingue (08)            50  ...   \n",
            "3                     1.0  Abitibi-Témiscamingue (08)            90  ...   \n",
            "4                     2.0  Abitibi-Témiscamingue (08)           NaN  ...   \n",
            "\n",
            "  CD_ASPCT_ROUTE  \\t\\t\\t\"CD_LOCLN_ACCDN\"  CD_CONFG_ROUTE  CD_ZON_TRAVX_ROUTR  \\\n",
            "0          Droit                    33.0            23.0                 NaN   \n",
            "1          Droit                    99.0            23.0                 NaN   \n",
            "2          Droit                    34.0            23.0                 NaN   \n",
            "3          Droit                     NaN            23.0                 NaN   \n",
            "4          Droit                    99.0            23.0                 NaN   \n",
            "\n",
            "   CD_COND_METEO IND_AUTO_CAMION_LEGER  IND_VEH_LOURD  IND_MOTO_CYCLO  \\\n",
            "0           17.0                     O              N               N   \n",
            "1           12.0                     O              N               N   \n",
            "2           11.0                     O              N               N   \n",
            "3           11.0                     N              O               N   \n",
            "4           11.0                     O              N               N   \n",
            "\n",
            "  \\t\\t\\t\"IND_VELO\"  IND_PIETON  \n",
            "0                N           N  \n",
            "1                N           N  \n",
            "2                N           N  \n",
            "3                N           N  \n",
            "4                N           N  \n",
            "\n",
            "[5 rows x 25 columns]\n"
          ]
        }
      ]
    },
    {
      "cell_type": "code",
      "source": [
        "\n",
        "# Check dataset information\n",
        "print(df.info())\n",
        "\n"
      ],
      "metadata": {
        "colab": {
          "base_uri": "https://localhost:8080/"
        },
        "id": "zDAfgXQ1qCa7",
        "outputId": "38ffce9b-9dc1-424c-d32e-b559cbfdff17"
      },
      "execution_count": null,
      "outputs": [
        {
          "output_type": "stream",
          "name": "stdout",
          "text": [
            "<class 'pandas.core.frame.DataFrame'>\n",
            "RangeIndex: 303972 entries, 0 to 303971\n",
            "Data columns (total 25 columns):\n",
            " #   Column                  Non-Null Count   Dtype  \n",
            "---  ------                  --------------   -----  \n",
            " 0   AN                      303972 non-null  int64  \n",
            " 1   NO_SEQ_COLL             303972 non-null  object \n",
            " 2   MS_ACCDN                303972 non-null  int64  \n",
            " 3   HR_ACCDN                301974 non-null  object \n",
            " 4   JR_SEMN_ACCDN           303971 non-null  object \n",
            " 5   GRAVITE                 303972 non-null  object \n",
            " 6   NB_VICTIMES_TOTAL       303972 non-null  int64  \n",
            " 7   NB_VEH_IMPLIQUES_ACCDN  303970 non-null  float64\n",
            " 8   \t\t\t\"REG_ADM\"            303951 non-null  object \n",
            " 9   VITESSE_AUTOR           265860 non-null  object \n",
            " 10  CD_GENRE_ACCDN          301263 non-null  object \n",
            " 11  CD_ETAT_SURFC           300432 non-null  float64\n",
            " 12  CD_ECLRM                299713 non-null  float64\n",
            " 13  CD_ENVRN_ACCDN          300380 non-null  float64\n",
            " 14  CD_CATEG_ROUTE          299965 non-null  float64\n",
            " 15  CD_ASPCT_ROUTE          299825 non-null  object \n",
            " 16  \t\t\t\"CD_LOCLN_ACCDN\"     286199 non-null  float64\n",
            " 17  CD_CONFG_ROUTE          290227 non-null  float64\n",
            " 18  CD_ZON_TRAVX_ROUTR      8173 non-null    object \n",
            " 19  CD_COND_METEO           299914 non-null  float64\n",
            " 20  IND_AUTO_CAMION_LEGER   303972 non-null  object \n",
            " 21  IND_VEH_LOURD           303972 non-null  object \n",
            " 22  IND_MOTO_CYCLO          303972 non-null  object \n",
            " 23  \t\t\t\"IND_VELO\"           303972 non-null  object \n",
            " 24  IND_PIETON              303972 non-null  object \n",
            "dtypes: float64(8), int64(3), object(14)\n",
            "memory usage: 58.0+ MB\n",
            "None\n"
          ]
        }
      ]
    },
    {
      "cell_type": "code",
      "source": [
        "# Check missing values percentage\n",
        "missing_values = (df.isnull().sum() / len(df)) * 100\n",
        "print(missing_values.sort_values(ascending=False))\n"
      ],
      "metadata": {
        "colab": {
          "base_uri": "https://localhost:8080/"
        },
        "id": "nmKuw175AXJ2",
        "outputId": "33a7d1f9-62ee-4b9e-8fc3-5c3cfe290d81"
      },
      "execution_count": null,
      "outputs": [
        {
          "output_type": "stream",
          "name": "stdout",
          "text": [
            "CD_ZON_TRAVX_ROUTR        97.311266\n",
            "VITESSE_AUTOR             12.537997\n",
            "\\t\\t\\t\"CD_LOCLN_ACCDN\"     5.846920\n",
            "CD_CONFG_ROUTE             4.521798\n",
            "CD_ECLRM                   1.401116\n",
            "CD_ASPCT_ROUTE             1.364270\n",
            "CD_COND_METEO              1.334991\n",
            "CD_CATEG_ROUTE             1.318214\n",
            "CD_ENVRN_ACCDN             1.181688\n",
            "CD_ETAT_SURFC              1.164581\n",
            "CD_GENRE_ACCDN             0.891201\n",
            "HR_ACCDN                   0.657297\n",
            "\\t\\t\\t\"REG_ADM\"            0.006909\n",
            "NB_VEH_IMPLIQUES_ACCDN     0.000658\n",
            "JR_SEMN_ACCDN              0.000329\n",
            "AN                         0.000000\n",
            "NO_SEQ_COLL                0.000000\n",
            "GRAVITE                    0.000000\n",
            "NB_VICTIMES_TOTAL          0.000000\n",
            "MS_ACCDN                   0.000000\n",
            "IND_AUTO_CAMION_LEGER      0.000000\n",
            "IND_VEH_LOURD              0.000000\n",
            "IND_MOTO_CYCLO             0.000000\n",
            "\\t\\t\\t\"IND_VELO\"           0.000000\n",
            "IND_PIETON                 0.000000\n",
            "dtype: float64\n"
          ]
        }
      ]
    },
    {
      "cell_type": "code",
      "source": [
        "# Check missing values\n",
        "print(df.isnull().sum())\n",
        "\n"
      ],
      "metadata": {
        "colab": {
          "base_uri": "https://localhost:8080/"
        },
        "id": "NdDZKJ8mqERf",
        "outputId": "9261438f-d1d0-4802-aab4-1a16e1e2e6d7"
      },
      "execution_count": null,
      "outputs": [
        {
          "output_type": "stream",
          "name": "stdout",
          "text": [
            "AN                             0\n",
            "NO_SEQ_COLL                    0\n",
            "MS_ACCDN                       0\n",
            "HR_ACCDN                    1998\n",
            "JR_SEMN_ACCDN                  1\n",
            "GRAVITE                        0\n",
            "NB_VICTIMES_TOTAL              0\n",
            "NB_VEH_IMPLIQUES_ACCDN         2\n",
            "\\t\\t\\t\"REG_ADM\"               21\n",
            "VITESSE_AUTOR              38112\n",
            "CD_GENRE_ACCDN              2709\n",
            "CD_ETAT_SURFC               3540\n",
            "CD_ECLRM                    4259\n",
            "CD_ENVRN_ACCDN              3592\n",
            "CD_CATEG_ROUTE              4007\n",
            "CD_ASPCT_ROUTE              4147\n",
            "\\t\\t\\t\"CD_LOCLN_ACCDN\"     17773\n",
            "CD_CONFG_ROUTE             13745\n",
            "CD_ZON_TRAVX_ROUTR        295799\n",
            "CD_COND_METEO               4058\n",
            "IND_AUTO_CAMION_LEGER          0\n",
            "IND_VEH_LOURD                  0\n",
            "IND_MOTO_CYCLO                 0\n",
            "\\t\\t\\t\"IND_VELO\"               0\n",
            "IND_PIETON                     0\n",
            "dtype: int64\n"
          ]
        }
      ]
    },
    {
      "cell_type": "code",
      "source": [
        "# Check summary statistics\n",
        "print(df.describe())"
      ],
      "metadata": {
        "colab": {
          "base_uri": "https://localhost:8080/"
        },
        "id": "ErAT4I32qGQX",
        "outputId": "9ac0c9d5-89ac-499f-e986-858140b4047f"
      },
      "execution_count": null,
      "outputs": [
        {
          "output_type": "stream",
          "name": "stdout",
          "text": [
            "                  AN       MS_ACCDN  NB_VICTIMES_TOTAL  \\\n",
            "count  303972.000000  303972.000000      303972.000000   \n",
            "mean     2021.042777       6.644309           0.323619   \n",
            "std         0.816830       3.585412           1.012338   \n",
            "min      2020.000000       1.000000           0.000000   \n",
            "25%      2020.000000       3.000000           0.000000   \n",
            "50%      2021.000000       7.000000           0.000000   \n",
            "75%      2022.000000      10.000000           0.000000   \n",
            "max      2022.000000      12.000000           9.000000   \n",
            "\n",
            "       NB_VEH_IMPLIQUES_ACCDN  CD_ETAT_SURFC       CD_ECLRM  CD_ENVRN_ACCDN  \\\n",
            "count           303970.000000  300432.000000  299713.000000   300380.000000   \n",
            "mean                 2.054742      12.448168       1.668082        3.447636   \n",
            "std                  1.801678       4.646371       1.046987        1.372857   \n",
            "min                  1.000000      11.000000       1.000000        1.000000   \n",
            "25%                  1.000000      11.000000       1.000000        2.000000   \n",
            "50%                  2.000000      11.000000       1.000000        3.000000   \n",
            "75%                  2.000000      12.000000       3.000000        5.000000   \n",
            "max                  9.000000      99.000000       4.000000        9.000000   \n",
            "\n",
            "       CD_CATEG_ROUTE  \\t\\t\\t\"CD_LOCLN_ACCDN\"  CD_CONFG_ROUTE  CD_COND_METEO  \n",
            "count   299965.000000           286199.000000   290227.000000  299914.000000  \n",
            "mean         1.126188               37.349372       22.547347      12.250305  \n",
            "std          0.332062               26.944891       12.254254       4.495979  \n",
            "min          1.000000               12.000000        1.000000      11.000000  \n",
            "25%          1.000000               12.000000       23.000000      11.000000  \n",
            "50%          1.000000               34.000000       23.000000      11.000000  \n",
            "75%          1.000000               34.000000       23.000000      12.000000  \n",
            "max          2.000000               99.000000       45.000000      99.000000  \n"
          ]
        }
      ]
    },
    {
      "cell_type": "markdown",
      "source": [
        "# New Section"
      ],
      "metadata": {
        "id": "SrVLeG_VouYr"
      }
    }
  ]
}